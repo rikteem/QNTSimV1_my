{
 "cells": [
  {
   "cell_type": "code",
   "execution_count": 1,
   "id": "dea1e90f",
   "metadata": {},
   "outputs": [],
   "source": [
    "def generate_json(n, topo_type):\n",
    "    nodes = []\n",
    "    quantum_connections = []\n",
    "    if topo_type == \"linear\":\n",
    "        for i in range(n):\n",
    "            node = {}\n",
    "            node[\"Name\"] = \"n\"+str(i)\n",
    "            if i != 0 and i!= n-1:\n",
    "                node[\"Type\"] = \"service\"\n",
    "                quantum_connections.append([i,i+1])\n",
    "            else:\n",
    "                node[\"Type\"] = \"end\"\n",
    "            nodes.append(node)\n",
    "                \n",
    "    elif topo_type == \"star\":\n",
    "        for i in range(n):\n",
    "            node = {}\n",
    "            node[\"Name\"] = \"n\"+str(i)\n",
    "            if i != 0:\n",
    "                node[\"Type\"] = \"end\"\n",
    "                quantum_connections.append([0,i])\n",
    "            else:\n",
    "                node[\"Type\"] = \"service\"\n",
    "                \n",
    "            nodes.append(node)\n",
    "    \n",
    "    elif topo_type == \"ring\":\n",
    "        for i in range(n):\n",
    "            node = {}\n",
    "            node[\"Name\"] = \"n\"+str(i)\n",
    "            node[\"Type\"] = \"service\"\n",
    "            nodes.append(node)\n",
    "            if i!= n-1:\n",
    "                quantum_connections.append([i,i+1])\n",
    "                \n",
    "            node = {}\n",
    "            node[\"Name\"] = \"n\"+str(i+n)\n",
    "            node[\"Type\"] = \"end\"\n",
    "            quantum_connections.append([i,i+n])\n",
    "            nodes.append(node)\n",
    "            \n",
    "        quantum_connections.append([n-1,0])\n",
    "    topology = {}\n",
    "    topology[\"nodes\"] = nodes\n",
    "    topology[\"quantum_connections\"] = quantum_connections\n",
    "    return topology"
   ]
  },
  {
   "cell_type": "code",
   "execution_count": 2,
   "id": "cb7764bc",
   "metadata": {},
   "outputs": [
    {
     "data": {
      "text/plain": [
       "{'Nodes': [{'Name': 'n0', 'Type': 'service'},\n",
       "  {'Name': 'n6', 'Type': 'end'},\n",
       "  {'Name': 'n1', 'Type': 'service'},\n",
       "  {'Name': 'n7', 'Type': 'end'},\n",
       "  {'Name': 'n2', 'Type': 'service'},\n",
       "  {'Name': 'n8', 'Type': 'end'},\n",
       "  {'Name': 'n3', 'Type': 'service'},\n",
       "  {'Name': 'n9', 'Type': 'end'},\n",
       "  {'Name': 'n4', 'Type': 'service'},\n",
       "  {'Name': 'n10', 'Type': 'end'},\n",
       "  {'Name': 'n5', 'Type': 'service'},\n",
       "  {'Name': 'n11', 'Type': 'end'}],\n",
       " 'quantum_connections': [[0, 1],\n",
       "  [0, 6],\n",
       "  [1, 2],\n",
       "  [1, 7],\n",
       "  [2, 3],\n",
       "  [2, 8],\n",
       "  [3, 4],\n",
       "  [3, 9],\n",
       "  [4, 5],\n",
       "  [4, 10],\n",
       "  [5, 11],\n",
       "  [5, 0]]}"
      ]
     },
     "execution_count": 2,
     "metadata": {},
     "output_type": "execute_result"
    }
   ],
   "source": [
    "topology = generate_json(6, \"ring\")\n",
    "topology"
   ]
  },
  {
   "cell_type": "code",
   "execution_count": 3,
   "id": "d55917de",
   "metadata": {},
   "outputs": [
    {
     "data": {
      "text/plain": [
       "{'Nodes': [{'Name': 'n0', 'Type': 'service'},\n",
       "  {'Name': 'n1', 'Type': 'end'},\n",
       "  {'Name': 'n2', 'Type': 'end'},\n",
       "  {'Name': 'n3', 'Type': 'end'},\n",
       "  {'Name': 'n4', 'Type': 'end'},\n",
       "  {'Name': 'n5', 'Type': 'end'}],\n",
       " 'quantum_connections': [[0, 1], [0, 2], [0, 3], [0, 4], [0, 5]]}"
      ]
     },
     "execution_count": 3,
     "metadata": {},
     "output_type": "execute_result"
    }
   ],
   "source": [
    "topology = generate_json(6, \"star\")\n",
    "topology"
   ]
  },
  {
   "cell_type": "code",
   "execution_count": 4,
   "id": "9e2846e8",
   "metadata": {},
   "outputs": [
    {
     "data": {
      "text/plain": [
       "{'Nodes': [{'Name': 'n0', 'Type': 'end'},\n",
       "  {'Name': 'n1', 'Type': 'service'},\n",
       "  {'Name': 'n2', 'Type': 'service'},\n",
       "  {'Name': 'n3', 'Type': 'service'},\n",
       "  {'Name': 'n4', 'Type': 'service'},\n",
       "  {'Name': 'n5', 'Type': 'end'}],\n",
       " 'quantum_connections': [[1, 2], [2, 3], [3, 4], [4, 5]]}"
      ]
     },
     "execution_count": 4,
     "metadata": {},
     "output_type": "execute_result"
    }
   ],
   "source": [
    "topology = generate_json(6, \"linear\")\n",
    "topology"
   ]
  },
  {
   "cell_type": "code",
   "execution_count": null,
   "id": "241b7074",
   "metadata": {},
   "outputs": [],
   "source": []
  },
  {
   "cell_type": "code",
   "execution_count": null,
   "id": "a9b3c28a",
   "metadata": {},
   "outputs": [],
   "source": []
  }
 ],
 "metadata": {
  "kernelspec": {
   "display_name": "Python 3 (ipykernel)",
   "language": "python",
   "name": "python3"
  },
  "language_info": {
   "codemirror_mode": {
    "name": "ipython",
    "version": 3
   },
   "file_extension": ".py",
   "mimetype": "text/x-python",
   "name": "python",
   "nbconvert_exporter": "python",
   "pygments_lexer": "ipython3",
   "version": "3.9.12"
  }
 },
 "nbformat": 4,
 "nbformat_minor": 5
}
